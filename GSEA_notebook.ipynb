{
  "cells": [
    {
      "cell_type": "markdown",
      "metadata": {
        "id": "view-in-github",
        "colab_type": "text"
      },
      "source": [
        "<a href=\"https://colab.research.google.com/github/zqzhu0609/R/blob/main/GSEA_notebook.ipynb\" target=\"_parent\"><img src=\"https://colab.research.google.com/assets/colab-badge.svg\" alt=\"Open In Colab\"/></a>"
      ]
    },
    {
      "cell_type": "code",
      "execution_count": null,
      "metadata": {
        "id": "UDSbvdLPc7vS"
      },
      "outputs": [],
      "source": []
    },
    {
      "cell_type": "code",
      "execution_count": 1,
      "metadata": {
        "colab": {
          "base_uri": "https://localhost:8080/"
        },
        "id": "XrQU0-kbdRXY",
        "outputId": "3efe4c58-5f71-4698-a032-e7d63290863f"
      },
      "outputs": [
        {
          "output_type": "stream",
          "name": "stderr",
          "text": [
            "Installing package into ‘/usr/local/lib/R/site-library’\n",
            "(as ‘lib’ is unspecified)\n",
            "\n",
            "'getOption(\"repos\")' replaces Bioconductor standard repositories, see\n",
            "'help(\"repositories\", package = \"BiocManager\")' for details.\n",
            "Replacement repositories:\n",
            "    CRAN: https://cran.rstudio.com\n",
            "\n",
            "Bioconductor version 3.20 (BiocManager 1.30.25), R 4.4.3 (2025-02-28)\n",
            "\n",
            "Installing package(s) 'BiocVersion', 'clusterProfiler'\n",
            "\n",
            "also installing the dependencies ‘zlibbioc’, ‘UCSC.utils’, ‘GenomeInfoDbData’, ‘formatR’, ‘XVector’, ‘GenomeInfoDb’, ‘lambda.r’, ‘futile.options’, ‘gridGraphics’, ‘tweenr’, ‘polyclip’, ‘RcppEigen’, ‘lazyeval’, ‘plogr’, ‘png’, ‘Biostrings’, ‘futile.logger’, ‘snow’, ‘BH’, ‘cowplot’, ‘fastmatch’, ‘ggplotify’, ‘patchwork’, ‘ggforce’, ‘ape’, ‘tidytree’, ‘treeio’, ‘R.oo’, ‘R.methodsS3’, ‘BiocGenerics’, ‘Biobase’, ‘IRanges’, ‘RSQLite’, ‘S4Vectors’, ‘KEGGREST’, ‘BiocParallel’, ‘fgsea’, ‘reshape2’, ‘aplot’, ‘ggfun’, ‘ggnewscale’, ‘ggrepel’, ‘ggtangle’, ‘scatterpie’, ‘ggtree’, ‘R.utils’, ‘AnnotationDbi’, ‘DOSE’, ‘enrichplot’, ‘GO.db’, ‘GOSemSim’, ‘gson’, ‘igraph’, ‘plyr’, ‘qvalue’, ‘yulab.utils’\n",
            "\n",
            "\n",
            "Old packages: 'bit', 'httr2', 'readxl'\n",
            "\n",
            "'getOption(\"repos\")' replaces Bioconductor standard repositories, see\n",
            "'help(\"repositories\", package = \"BiocManager\")' for details.\n",
            "Replacement repositories:\n",
            "    CRAN: https://cran.rstudio.com\n",
            "\n",
            "Bioconductor version 3.20 (BiocManager 1.30.25), R 4.4.3 (2025-02-28)\n",
            "\n",
            "Installing package(s) 'org.Hs.eg.db'\n",
            "\n",
            "Old packages: 'bit', 'httr2', 'readxl'\n",
            "\n",
            "'getOption(\"repos\")' replaces Bioconductor standard repositories, see\n",
            "'help(\"repositories\", package = \"BiocManager\")' for details.\n",
            "Replacement repositories:\n",
            "    CRAN: https://cran.rstudio.com\n",
            "\n",
            "Bioconductor version 3.20 (BiocManager 1.30.25), R 4.4.3 (2025-02-28)\n",
            "\n",
            "Installing package(s) 'msigdbr'\n",
            "\n",
            "also installing the dependency ‘babelgene’\n",
            "\n",
            "\n",
            "Old packages: 'bit', 'httr2', 'readxl'\n",
            "\n",
            "'getOption(\"repos\")' replaces Bioconductor standard repositories, see\n",
            "'help(\"repositories\", package = \"BiocManager\")' for details.\n",
            "Replacement repositories:\n",
            "    CRAN: https://cran.rstudio.com\n",
            "\n",
            "Bioconductor version 3.20 (BiocManager 1.30.25), R 4.4.3 (2025-02-28)\n",
            "\n",
            "Warning message:\n",
            "“package(s) not installed when version(s) same as or greater than current; use\n",
            "  `force = TRUE` to re-install: 'enrichplot'”\n",
            "Old packages: 'bit', 'httr2', 'readxl'\n",
            "\n",
            "'getOption(\"repos\")' replaces Bioconductor standard repositories, see\n",
            "'help(\"repositories\", package = \"BiocManager\")' for details.\n",
            "Replacement repositories:\n",
            "    CRAN: https://cran.rstudio.com\n",
            "\n",
            "Bioconductor version 3.20 (BiocManager 1.30.25), R 4.4.3 (2025-02-28)\n",
            "\n",
            "Warning message:\n",
            "“package(s) not installed when version(s) same as or greater than current; use\n",
            "  `force = TRUE` to re-install: 'fgsea'”\n",
            "Old packages: 'bit', 'httr2', 'readxl'\n",
            "\n",
            "\n",
            "\n",
            "clusterProfiler v4.14.6 Learn more at https://yulab-smu.top/contribution-knowledge-mining/\n",
            "\n",
            "Please cite:\n",
            "\n",
            "G Yu. Thirteen years of clusterProfiler. The Innovation. 2024,\n",
            "5(6):100722\n",
            "\n",
            "\n",
            "Attaching package: ‘clusterProfiler’\n",
            "\n",
            "\n",
            "The following object is masked from ‘package:stats’:\n",
            "\n",
            "    filter\n",
            "\n",
            "\n",
            "Loading required package: AnnotationDbi\n",
            "\n",
            "Loading required package: stats4\n",
            "\n",
            "Loading required package: BiocGenerics\n",
            "\n",
            "\n",
            "Attaching package: ‘BiocGenerics’\n",
            "\n",
            "\n",
            "The following objects are masked from ‘package:stats’:\n",
            "\n",
            "    IQR, mad, sd, var, xtabs\n",
            "\n",
            "\n",
            "The following objects are masked from ‘package:base’:\n",
            "\n",
            "    anyDuplicated, aperm, append, as.data.frame, basename, cbind,\n",
            "    colnames, dirname, do.call, duplicated, eval, evalq, Filter, Find,\n",
            "    get, grep, grepl, intersect, is.unsorted, lapply, Map, mapply,\n",
            "    match, mget, order, paste, pmax, pmax.int, pmin, pmin.int,\n",
            "    Position, rank, rbind, Reduce, rownames, sapply, saveRDS, setdiff,\n",
            "    table, tapply, union, unique, unsplit, which.max, which.min\n",
            "\n",
            "\n",
            "Loading required package: Biobase\n",
            "\n",
            "Welcome to Bioconductor\n",
            "\n",
            "    Vignettes contain introductory material; view with\n",
            "    'browseVignettes()'. To cite Bioconductor, see\n",
            "    'citation(\"Biobase\")', and for packages 'citation(\"pkgname\")'.\n",
            "\n",
            "\n",
            "Loading required package: IRanges\n",
            "\n",
            "Loading required package: S4Vectors\n",
            "\n",
            "\n",
            "Attaching package: ‘S4Vectors’\n",
            "\n",
            "\n",
            "The following object is masked from ‘package:clusterProfiler’:\n",
            "\n",
            "    rename\n",
            "\n",
            "\n",
            "The following object is masked from ‘package:utils’:\n",
            "\n",
            "    findMatches\n",
            "\n",
            "\n",
            "The following objects are masked from ‘package:base’:\n",
            "\n",
            "    expand.grid, I, unname\n",
            "\n",
            "\n",
            "\n",
            "Attaching package: ‘IRanges’\n",
            "\n",
            "\n",
            "The following object is masked from ‘package:clusterProfiler’:\n",
            "\n",
            "    slice\n",
            "\n",
            "\n",
            "\n",
            "Attaching package: ‘AnnotationDbi’\n",
            "\n",
            "\n",
            "The following object is masked from ‘package:clusterProfiler’:\n",
            "\n",
            "    select\n",
            "\n",
            "\n",
            "\n",
            "\n",
            "enrichplot v1.26.6 Learn more at https://yulab-smu.top/contribution-knowledge-mining/\n",
            "\n",
            "Please cite:\n",
            "\n",
            "Qianwen Wang, Ming Li, Tianzhi Wu, Li Zhan, Lin Li, Meijun Chen, Wenqin\n",
            "Xie, Zijing Xie, Erqiang Hu, Shuangbin Xu, Guangchuang Yu. Exploring\n",
            "epigenomic datasets by ChIPseeker. Current Protocols. 2022, 2(10): e585\n",
            "\n"
          ]
        }
      ],
      "source": [
        "if (!requireNamespace(\"BiocManager\", quietly = TRUE))\n",
        "  install.packages(\"BiocManager\")\n",
        "\n",
        "BiocManager::install(\"clusterProfiler\")\n",
        "BiocManager::install(\"org.Hs.eg.db\")\n",
        "BiocManager::install(\"msigdbr\")\n",
        "BiocManager::install(\"enrichplot\")\n",
        "BiocManager::install(\"fgsea\")\n",
        "# Load the libraries\n",
        "library(clusterProfiler)\n",
        "library(org.Hs.eg.db)\n",
        "library(msigdbr)\n",
        "library(enrichplot)\n",
        "library(fgsea)"
      ]
    },
    {
      "cell_type": "code",
      "execution_count": 7,
      "metadata": {
        "id": "sTQETa8Neubb",
        "colab": {
          "base_uri": "https://localhost:8080/",
          "height": 303
        },
        "outputId": "09eaab53-38a5-47a8-b2d4-33946bdbf738"
      },
      "outputs": [
        {
          "output_type": "display_data",
          "data": {
            "text/html": [
              "<style>\n",
              ".list-inline {list-style: none; margin:0; padding: 0}\n",
              ".list-inline>li {display: inline-block}\n",
              ".list-inline>li:not(:last-child)::after {content: \"\\00b7\"; padding: 0 .5ex}\n",
              "</style>\n",
              "<ol class=list-inline><li>'sample_data'</li><li>'WT2.csv'</li></ol>\n"
            ],
            "text/markdown": "1. 'sample_data'\n2. 'WT2.csv'\n\n\n",
            "text/latex": "\\begin{enumerate*}\n\\item 'sample\\_data'\n\\item 'WT2.csv'\n\\end{enumerate*}\n",
            "text/plain": [
              "[1] \"sample_data\" \"WT2.csv\"    "
            ]
          },
          "metadata": {}
        },
        {
          "output_type": "display_data",
          "data": {
            "text/html": [
              "<table class=\"dataframe\">\n",
              "<caption>A data.frame: 6 × 2</caption>\n",
              "<thead>\n",
              "\t<tr><th></th><th scope=col>Gene</th><th scope=col>Score</th></tr>\n",
              "\t<tr><th></th><th scope=col>&lt;chr&gt;</th><th scope=col>&lt;dbl&gt;</th></tr>\n",
              "</thead>\n",
              "<tbody>\n",
              "\t<tr><th scope=row>1</th><td>MYBPC1 </td><td>9.000831</td></tr>\n",
              "\t<tr><th scope=row>2</th><td>STEAP4 </td><td>8.086381</td></tr>\n",
              "\t<tr><th scope=row>3</th><td>SLC2A3 </td><td>7.991232</td></tr>\n",
              "\t<tr><th scope=row>4</th><td>ZNF812P</td><td>7.479244</td></tr>\n",
              "\t<tr><th scope=row>5</th><td>SNAI2  </td><td>7.023302</td></tr>\n",
              "\t<tr><th scope=row>6</th><td>SLC2A14</td><td>6.928709</td></tr>\n",
              "</tbody>\n",
              "</table>\n"
            ],
            "text/markdown": "\nA data.frame: 6 × 2\n\n| <!--/--> | Gene &lt;chr&gt; | Score &lt;dbl&gt; |\n|---|---|---|\n| 1 | MYBPC1  | 9.000831 |\n| 2 | STEAP4  | 8.086381 |\n| 3 | SLC2A3  | 7.991232 |\n| 4 | ZNF812P | 7.479244 |\n| 5 | SNAI2   | 7.023302 |\n| 6 | SLC2A14 | 6.928709 |\n\n",
            "text/latex": "A data.frame: 6 × 2\n\\begin{tabular}{r|ll}\n  & Gene & Score\\\\\n  & <chr> & <dbl>\\\\\n\\hline\n\t1 & MYBPC1  & 9.000831\\\\\n\t2 & STEAP4  & 8.086381\\\\\n\t3 & SLC2A3  & 7.991232\\\\\n\t4 & ZNF812P & 7.479244\\\\\n\t5 & SNAI2   & 7.023302\\\\\n\t6 & SLC2A14 & 6.928709\\\\\n\\end{tabular}\n",
            "text/plain": [
              "  Gene    Score   \n",
              "1 MYBPC1  9.000831\n",
              "2 STEAP4  8.086381\n",
              "3 SLC2A3  7.991232\n",
              "4 ZNF812P 7.479244\n",
              "5 SNAI2   7.023302\n",
              "6 SLC2A14 6.928709"
            ]
          },
          "metadata": {}
        }
      ],
      "source": [
        "# Load the CSV file\n",
        "dir(\"/content/\")\n",
        "data <- read.csv('/content/WT2.csv')\n",
        "# Check the first few rows of the data\n",
        "head(data)"
      ]
    },
    {
      "cell_type": "code",
      "execution_count": 8,
      "metadata": {
        "id": "_BrIq_TkfSpV"
      },
      "outputs": [],
      "source": [
        "# Example: If the CSV file has columns \"Gene\" and \"Rank\"\n",
        "ranked_list <- data$Score\n",
        "names(ranked_list) <- data$Gene\n",
        "\n",
        "# Sort the ranked list in decreasing order\n",
        "ranked_list <- sort(ranked_list, decreasing = TRUE)"
      ]
    },
    {
      "cell_type": "code",
      "execution_count": 9,
      "metadata": {
        "id": "AyrZkGSGfblm",
        "colab": {
          "base_uri": "https://localhost:8080/"
        },
        "outputId": "bcc45423-3eb7-493c-a48d-4cf13a22f78f"
      },
      "outputs": [
        {
          "output_type": "stream",
          "name": "stderr",
          "text": [
            "using 'fgsea' for GSEA analysis, please cite Korotkevich et al (2019).\n",
            "\n",
            "\n",
            "preparing geneSet collections...\n",
            "\n",
            "GSEA analysis...\n",
            "\n",
            "Warning message in preparePathwaysAndStats(pathways, stats, minSize, maxSize, gseaParam, :\n",
            "“There are ties in the preranked stats (13.24% of the list).\n",
            "The order of those tied genes will be arbitrary, which may produce unexpected results.”\n",
            "Warning message in fgseaMultilevel(pathways = pathways, stats = stats, minSize = minSize, :\n",
            "“There were 57 pathways for which P-values were not calculated properly due to unbalanced (positive and negative) gene-level statistic values. For such pathways pval, padj, NES, log2err are set to NA. You can try to increase the value of the argument nPermSimple (for example set it nPermSimple = 10000)”\n",
            "Warning message in fgseaMultilevel(pathways = pathways, stats = stats, minSize = minSize, :\n",
            "“For some of the pathways the P-values were likely overestimated. For such pathways log2err is set to NA.”\n",
            "Warning message in fgseaMultilevel(pathways = pathways, stats = stats, minSize = minSize, :\n",
            "“For some pathways, in reality P-values are less than 1e-10. You can set the `eps` argument to zero for better estimation.”\n",
            "leading edge analysis...\n",
            "\n",
            "done...\n",
            "\n"
          ]
        }
      ],
      "source": [
        "# Run GSEA with GO terms\n",
        "gsea_result <- gseGO(\n",
        "    geneList = ranked_list,\n",
        "    ont = \"BP\",                    # Biological Process\n",
        "    OrgDb = org.Hs.eg.db,          # Organism database\n",
        "    keyType = \"SYMBOL\",            # Gene identifier type\n",
        "    exponent = 1,\n",
        "    minGSSize = 10,\n",
        "    maxGSSize = 500,\n",
        "    pvalueCutoff = 0.05,\n",
        "    verbose = TRUE\n",
        ")"
      ]
    },
    {
      "cell_type": "code",
      "execution_count": 10,
      "metadata": {
        "id": "1Pk2A0vEfcRd",
        "colab": {
          "base_uri": "https://localhost:8080/",
          "height": 636
        },
        "outputId": "be9eaeff-35ea-4332-f9d1-d862e4021d4a"
      },
      "outputs": [
        {
          "output_type": "display_data",
          "data": {
            "text/html": [
              "<table class=\"dataframe\">\n",
              "<caption>A data.frame: 6 × 11</caption>\n",
              "<thead>\n",
              "\t<tr><th></th><th scope=col>ID</th><th scope=col>Description</th><th scope=col>setSize</th><th scope=col>enrichmentScore</th><th scope=col>NES</th><th scope=col>pvalue</th><th scope=col>p.adjust</th><th scope=col>qvalue</th><th scope=col>rank</th><th scope=col>leading_edge</th><th scope=col>core_enrichment</th></tr>\n",
              "\t<tr><th></th><th scope=col>&lt;chr&gt;</th><th scope=col>&lt;chr&gt;</th><th scope=col>&lt;int&gt;</th><th scope=col>&lt;dbl&gt;</th><th scope=col>&lt;dbl&gt;</th><th scope=col>&lt;dbl&gt;</th><th scope=col>&lt;dbl&gt;</th><th scope=col>&lt;dbl&gt;</th><th scope=col>&lt;dbl&gt;</th><th scope=col>&lt;chr&gt;</th><th scope=col>&lt;chr&gt;</th></tr>\n",
              "</thead>\n",
              "<tbody>\n",
              "\t<tr><th scope=row>GO:0002181</th><td>GO:0002181</td><td>cytoplasmic translation                                  </td><td>159</td><td>0.6012163</td><td>2.827878</td><td>1e-10</td><td>3.758125e-08</td><td>3.382895e-08</td><td>5988</td><td>tags=73%, list=27%, signal=53%</td><td>PKP1/RBM24/CPEB3/SARS1/EIF3I/MTOR/EIF2S2/AARS1/RPS10/RPS18/RPL18/RPS5/RPL18A/RPL38/YBX3/RPS8/EIF3J/RPL8/RPS16/RPL7A/RPS11/RPL10/RACK1/FAU/RPL36/RPLP0/RPL13/RPS3/RPS15/RPL19/RPL3/RPS19/RPL12/IMPACT/RPS2/ETF1/PABPC1/EIF3G/RPS6/RPL13A/RPLP2/EIF3L/RPL14/RPS28/EIF3M/EIF3H/RPL15/RPS29/RPL4/RPL35A/RPS4X/RPS14/EIF2S3/EIF2B2/RPL29/EIF3F/RPL27/RPL32/RPLP1/RPL37A/YBX1/RPSA/EIF2B4/CSDE1/RPS13/CNBP/FTSJ1/RPL35/RPL28/RPL5/RPL27A/EIF3D/RPL24/NCK1/DRG1/EIF3K/RPL10A/RPS20/UBA52/RPS7/GTPBP1/RPS23/RPS21/EIF2B1/EIF4G1/PAIP1/ALKBH3/RPL22L1/RPS25/RPL6/RPS3A/ZC3H15/EIF2D/RPL23A/NMNAT2/EIF3A/RPL34/DENR/RPL30/SH3BGRL/RPS15A/RPL37/RWDD1/EIF3B/RPL31/RPS12/RPL26L1/FMR1/RPL11/DRG2/RPL9/HNRNPU/YTHDF2/EIF3E/RPL26/RPS24</td></tr>\n",
              "\t<tr><th scope=row>GO:0030968</th><td>GO:0030968</td><td>endoplasmic reticulum unfolded protein response          </td><td> 79</td><td>0.6281911</td><td>2.712672</td><td>1e-10</td><td>3.758125e-08</td><td>3.382895e-08</td><td>5683</td><td>tags=72%, list=26%, signal=54%</td><td>AGR2/CTH/ERN1/BHLHA15/ATF3/DNAJB9/FGF21/DDIT3/DNAJC10/CREB3L1/HERPUD1/FICD/SERP1/STC2/SELENOS/ATF4/EDEM3/EDEM2/CREB3/ERO1A/PPP1R15B/ASB11/EDEM1/ERLEC1/EIF2AK3/TMED2/RACK1/ATF6/HSPA5/TBL2/EIF2S1/MBTPS2/DDRGK1/TMEM33/NFE2L2/NCK1/VCP/AMFR/DERL1/WFS1/PTPN1/BBC3/CREBRF/STUB1/VAPB/HERPUD2/QRICH1/NCK2/RHBDD2/YOD1/DERL2/EIF2AK2/RNF7/COPS5/MBTPS1/OS9/XBP1                                                                                                                                                                                                                                                                                                                                                             </td></tr>\n",
              "\t<tr><th scope=row>GO:0035967</th><td>GO:0035967</td><td>cellular response to topologically incorrect protein     </td><td>107</td><td>0.5857710</td><td>2.661120</td><td>1e-10</td><td>3.758125e-08</td><td>3.382895e-08</td><td>5683</td><td>tags=67%, list=26%, signal=50%</td><td>UMOD/AGR2/CTH/ERN1/BHLHA15/ATF3/DNAJB9/FGF21/DDIT3/DNAJC10/CREB3L1/HERPUD1/FICD/SERP1/STC2/SELENOS/ATF4/EDEM3/EDEM2/CREB3/ERO1A/PPP1R15B/ASB11/RHBDD1/EDEM1/HSPD1/ERLEC1/EIF2AK3/TMED2/RACK1/ATF6/HSPA5/TBL2/SDF2L1/DAXX/EIF2S1/MBTPS2/DDRGK1/TMEM33/BAG3/RNF126/NFE2L2/AKIRIN2/NCK1/VCP/AMFR/DERL1/UFD1/HSF1/CUL3/WFS1/UBR4/PTPN1/TMBIM6/BBC3/CREBRF/STUB1/VAPB/HERPUD2/DNAJB12/QRICH1/NCK2/RHBDD2/YOD1/DERL2/EIF2AK2/RNF7/COPS5/MBTPS1/OS9/UBE2W/XBP1                                                                                                                                                                                                                                                                  </td></tr>\n",
              "\t<tr><th scope=row>GO:0034620</th><td>GO:0034620</td><td>cellular response to unfolded protein                    </td><td> 92</td><td>0.5965843</td><td>2.616829</td><td>1e-10</td><td>3.758125e-08</td><td>3.382895e-08</td><td>5122</td><td>tags=64%, list=23%, signal=49%</td><td>UMOD/AGR2/CTH/ERN1/BHLHA15/ATF3/DNAJB9/FGF21/DDIT3/DNAJC10/CREB3L1/HERPUD1/FICD/SERP1/STC2/SELENOS/ATF4/EDEM3/EDEM2/CREB3/ERO1A/PPP1R15B/ASB11/RHBDD1/EDEM1/HSPD1/ERLEC1/EIF2AK3/TMED2/RACK1/ATF6/HSPA5/TBL2/DAXX/EIF2S1/MBTPS2/DDRGK1/TMEM33/BAG3/NFE2L2/NCK1/VCP/AMFR/DERL1/HSF1/WFS1/PTPN1/TMBIM6/BBC3/CREBRF/STUB1/VAPB/HERPUD2/QRICH1/NCK2/RHBDD2/YOD1/DERL2/EIF2AK2                                                                                                                                                                                                                                                                                                                                                </td></tr>\n",
              "\t<tr><th scope=row>GO:0006986</th><td>GO:0006986</td><td>response to unfolded protein                             </td><td>132</td><td>0.5621208</td><td>2.595289</td><td>1e-10</td><td>3.758125e-08</td><td>3.382895e-08</td><td>5122</td><td>tags=60%, list=23%, signal=46%</td><td>UMOD/AGR2/CHAC1/CTH/ERN1/BHLHA15/ATF3/DNAJB9/FGF21/DDIT3/DNAJC10/CREB3L1/HERPUD1/FICD/SERP1/STC2/SELENOS/ATF4/EDEM3/EDEM2/HSPA2/DNAJC3/CREB3L4/TRAM1/HSPA6/CREB3/MANF/ERO1A/PPP1R15B/ASB11/RHBDD1/EDEM1/CREB3L2/HSPD1/DNAJB2/ERP44/ERLEC1/EIF2AK3/TMED2/RACK1/ATF6/HSPA5/TBL2/DAXX/EIF2S1/MBTPS2/DDRGK1/TMEM33/BAG3/HSPH1/NFE2L2/HSPE1/NCK1/VCP/AMFR/HSPA8/DERL1/DNAJA1/HSF1/HSP90AA1/WFS1/UBXN4/PTPN1/TMBIM6/BBC3/CREBRF/STUB1/VAPB/HSP90AB1/HERPUD2/MFN2/DNAJC4/KBTBD6/QRICH1/NCK2/RHBDD2/YOD1/DERL2/EIF2AK2                                                                                                                                                                                                           </td></tr>\n",
              "\t<tr><th scope=row>GO:0006888</th><td>GO:0006888</td><td>endoplasmic reticulum to Golgi vesicle-mediated transport</td><td>127</td><td>0.5660377</td><td>2.585651</td><td>1e-10</td><td>3.758125e-08</td><td>3.382895e-08</td><td>4452</td><td>tags=59%, list=20%, signal=47%</td><td>SEC24D/SEC16B/COPG1/BCAP29/ARF4/ARCN1/CTAGE1/ANK1/MIA2/SEC23B/COPE/BET1/YKT6/YIF1A/HYOU1/RAB1A/SCAP/SURF4/CTAGE6/COPB1/TRAPPC3/USO1/TMED9/CREB3L2/TMED10/LRRK2/PREB/TMED3/ERGIC2/YIPF5/SEC24B/TMED2/COPA/SEC31A/COPB2/SEC22B/SEC24A/SEC24C/STX5/P4HB/SEC13/TMED5/SEC16A/SAR1B/LMAN1/LMAN2/TRAPPC4/TMED1/GOLT1B/TMED7/SEC22C/INSIG1/CTAGE8/TBC1D20/TFG/RAB1B/VAPA/COG3/WHAMM/TRAPPC5/ERGIC3/ERGIC1/GOLGA2/TRAPPC6A/VCP/STX18/GBF1/NRBP1/BCAP31/CUL3/PEF1/PPP6C/YIF1B/TRAPPC2B/VAPB                                                                                                                                                                                                                                        </td></tr>\n",
              "</tbody>\n",
              "</table>\n"
            ],
            "text/markdown": "\nA data.frame: 6 × 11\n\n| <!--/--> | ID &lt;chr&gt; | Description &lt;chr&gt; | setSize &lt;int&gt; | enrichmentScore &lt;dbl&gt; | NES &lt;dbl&gt; | pvalue &lt;dbl&gt; | p.adjust &lt;dbl&gt; | qvalue &lt;dbl&gt; | rank &lt;dbl&gt; | leading_edge &lt;chr&gt; | core_enrichment &lt;chr&gt; |\n|---|---|---|---|---|---|---|---|---|---|---|---|\n| GO:0002181 | GO:0002181 | cytoplasmic translation                                   | 159 | 0.6012163 | 2.827878 | 1e-10 | 3.758125e-08 | 3.382895e-08 | 5988 | tags=73%, list=27%, signal=53% | PKP1/RBM24/CPEB3/SARS1/EIF3I/MTOR/EIF2S2/AARS1/RPS10/RPS18/RPL18/RPS5/RPL18A/RPL38/YBX3/RPS8/EIF3J/RPL8/RPS16/RPL7A/RPS11/RPL10/RACK1/FAU/RPL36/RPLP0/RPL13/RPS3/RPS15/RPL19/RPL3/RPS19/RPL12/IMPACT/RPS2/ETF1/PABPC1/EIF3G/RPS6/RPL13A/RPLP2/EIF3L/RPL14/RPS28/EIF3M/EIF3H/RPL15/RPS29/RPL4/RPL35A/RPS4X/RPS14/EIF2S3/EIF2B2/RPL29/EIF3F/RPL27/RPL32/RPLP1/RPL37A/YBX1/RPSA/EIF2B4/CSDE1/RPS13/CNBP/FTSJ1/RPL35/RPL28/RPL5/RPL27A/EIF3D/RPL24/NCK1/DRG1/EIF3K/RPL10A/RPS20/UBA52/RPS7/GTPBP1/RPS23/RPS21/EIF2B1/EIF4G1/PAIP1/ALKBH3/RPL22L1/RPS25/RPL6/RPS3A/ZC3H15/EIF2D/RPL23A/NMNAT2/EIF3A/RPL34/DENR/RPL30/SH3BGRL/RPS15A/RPL37/RWDD1/EIF3B/RPL31/RPS12/RPL26L1/FMR1/RPL11/DRG2/RPL9/HNRNPU/YTHDF2/EIF3E/RPL26/RPS24 |\n| GO:0030968 | GO:0030968 | endoplasmic reticulum unfolded protein response           |  79 | 0.6281911 | 2.712672 | 1e-10 | 3.758125e-08 | 3.382895e-08 | 5683 | tags=72%, list=26%, signal=54% | AGR2/CTH/ERN1/BHLHA15/ATF3/DNAJB9/FGF21/DDIT3/DNAJC10/CREB3L1/HERPUD1/FICD/SERP1/STC2/SELENOS/ATF4/EDEM3/EDEM2/CREB3/ERO1A/PPP1R15B/ASB11/EDEM1/ERLEC1/EIF2AK3/TMED2/RACK1/ATF6/HSPA5/TBL2/EIF2S1/MBTPS2/DDRGK1/TMEM33/NFE2L2/NCK1/VCP/AMFR/DERL1/WFS1/PTPN1/BBC3/CREBRF/STUB1/VAPB/HERPUD2/QRICH1/NCK2/RHBDD2/YOD1/DERL2/EIF2AK2/RNF7/COPS5/MBTPS1/OS9/XBP1                                                                                                                                                                                                                                                                                                                                                              |\n| GO:0035967 | GO:0035967 | cellular response to topologically incorrect protein      | 107 | 0.5857710 | 2.661120 | 1e-10 | 3.758125e-08 | 3.382895e-08 | 5683 | tags=67%, list=26%, signal=50% | UMOD/AGR2/CTH/ERN1/BHLHA15/ATF3/DNAJB9/FGF21/DDIT3/DNAJC10/CREB3L1/HERPUD1/FICD/SERP1/STC2/SELENOS/ATF4/EDEM3/EDEM2/CREB3/ERO1A/PPP1R15B/ASB11/RHBDD1/EDEM1/HSPD1/ERLEC1/EIF2AK3/TMED2/RACK1/ATF6/HSPA5/TBL2/SDF2L1/DAXX/EIF2S1/MBTPS2/DDRGK1/TMEM33/BAG3/RNF126/NFE2L2/AKIRIN2/NCK1/VCP/AMFR/DERL1/UFD1/HSF1/CUL3/WFS1/UBR4/PTPN1/TMBIM6/BBC3/CREBRF/STUB1/VAPB/HERPUD2/DNAJB12/QRICH1/NCK2/RHBDD2/YOD1/DERL2/EIF2AK2/RNF7/COPS5/MBTPS1/OS9/UBE2W/XBP1                                                                                                                                                                                                                                                                   |\n| GO:0034620 | GO:0034620 | cellular response to unfolded protein                     |  92 | 0.5965843 | 2.616829 | 1e-10 | 3.758125e-08 | 3.382895e-08 | 5122 | tags=64%, list=23%, signal=49% | UMOD/AGR2/CTH/ERN1/BHLHA15/ATF3/DNAJB9/FGF21/DDIT3/DNAJC10/CREB3L1/HERPUD1/FICD/SERP1/STC2/SELENOS/ATF4/EDEM3/EDEM2/CREB3/ERO1A/PPP1R15B/ASB11/RHBDD1/EDEM1/HSPD1/ERLEC1/EIF2AK3/TMED2/RACK1/ATF6/HSPA5/TBL2/DAXX/EIF2S1/MBTPS2/DDRGK1/TMEM33/BAG3/NFE2L2/NCK1/VCP/AMFR/DERL1/HSF1/WFS1/PTPN1/TMBIM6/BBC3/CREBRF/STUB1/VAPB/HERPUD2/QRICH1/NCK2/RHBDD2/YOD1/DERL2/EIF2AK2                                                                                                                                                                                                                                                                                                                                                 |\n| GO:0006986 | GO:0006986 | response to unfolded protein                              | 132 | 0.5621208 | 2.595289 | 1e-10 | 3.758125e-08 | 3.382895e-08 | 5122 | tags=60%, list=23%, signal=46% | UMOD/AGR2/CHAC1/CTH/ERN1/BHLHA15/ATF3/DNAJB9/FGF21/DDIT3/DNAJC10/CREB3L1/HERPUD1/FICD/SERP1/STC2/SELENOS/ATF4/EDEM3/EDEM2/HSPA2/DNAJC3/CREB3L4/TRAM1/HSPA6/CREB3/MANF/ERO1A/PPP1R15B/ASB11/RHBDD1/EDEM1/CREB3L2/HSPD1/DNAJB2/ERP44/ERLEC1/EIF2AK3/TMED2/RACK1/ATF6/HSPA5/TBL2/DAXX/EIF2S1/MBTPS2/DDRGK1/TMEM33/BAG3/HSPH1/NFE2L2/HSPE1/NCK1/VCP/AMFR/HSPA8/DERL1/DNAJA1/HSF1/HSP90AA1/WFS1/UBXN4/PTPN1/TMBIM6/BBC3/CREBRF/STUB1/VAPB/HSP90AB1/HERPUD2/MFN2/DNAJC4/KBTBD6/QRICH1/NCK2/RHBDD2/YOD1/DERL2/EIF2AK2                                                                                                                                                                                                            |\n| GO:0006888 | GO:0006888 | endoplasmic reticulum to Golgi vesicle-mediated transport | 127 | 0.5660377 | 2.585651 | 1e-10 | 3.758125e-08 | 3.382895e-08 | 4452 | tags=59%, list=20%, signal=47% | SEC24D/SEC16B/COPG1/BCAP29/ARF4/ARCN1/CTAGE1/ANK1/MIA2/SEC23B/COPE/BET1/YKT6/YIF1A/HYOU1/RAB1A/SCAP/SURF4/CTAGE6/COPB1/TRAPPC3/USO1/TMED9/CREB3L2/TMED10/LRRK2/PREB/TMED3/ERGIC2/YIPF5/SEC24B/TMED2/COPA/SEC31A/COPB2/SEC22B/SEC24A/SEC24C/STX5/P4HB/SEC13/TMED5/SEC16A/SAR1B/LMAN1/LMAN2/TRAPPC4/TMED1/GOLT1B/TMED7/SEC22C/INSIG1/CTAGE8/TBC1D20/TFG/RAB1B/VAPA/COG3/WHAMM/TRAPPC5/ERGIC3/ERGIC1/GOLGA2/TRAPPC6A/VCP/STX18/GBF1/NRBP1/BCAP31/CUL3/PEF1/PPP6C/YIF1B/TRAPPC2B/VAPB                                                                                                                                                                                                                                         |\n\n",
            "text/latex": "A data.frame: 6 × 11\n\\begin{tabular}{r|lllllllllll}\n  & ID & Description & setSize & enrichmentScore & NES & pvalue & p.adjust & qvalue & rank & leading\\_edge & core\\_enrichment\\\\\n  & <chr> & <chr> & <int> & <dbl> & <dbl> & <dbl> & <dbl> & <dbl> & <dbl> & <chr> & <chr>\\\\\n\\hline\n\tGO:0002181 & GO:0002181 & cytoplasmic translation                                   & 159 & 0.6012163 & 2.827878 & 1e-10 & 3.758125e-08 & 3.382895e-08 & 5988 & tags=73\\%, list=27\\%, signal=53\\% & PKP1/RBM24/CPEB3/SARS1/EIF3I/MTOR/EIF2S2/AARS1/RPS10/RPS18/RPL18/RPS5/RPL18A/RPL38/YBX3/RPS8/EIF3J/RPL8/RPS16/RPL7A/RPS11/RPL10/RACK1/FAU/RPL36/RPLP0/RPL13/RPS3/RPS15/RPL19/RPL3/RPS19/RPL12/IMPACT/RPS2/ETF1/PABPC1/EIF3G/RPS6/RPL13A/RPLP2/EIF3L/RPL14/RPS28/EIF3M/EIF3H/RPL15/RPS29/RPL4/RPL35A/RPS4X/RPS14/EIF2S3/EIF2B2/RPL29/EIF3F/RPL27/RPL32/RPLP1/RPL37A/YBX1/RPSA/EIF2B4/CSDE1/RPS13/CNBP/FTSJ1/RPL35/RPL28/RPL5/RPL27A/EIF3D/RPL24/NCK1/DRG1/EIF3K/RPL10A/RPS20/UBA52/RPS7/GTPBP1/RPS23/RPS21/EIF2B1/EIF4G1/PAIP1/ALKBH3/RPL22L1/RPS25/RPL6/RPS3A/ZC3H15/EIF2D/RPL23A/NMNAT2/EIF3A/RPL34/DENR/RPL30/SH3BGRL/RPS15A/RPL37/RWDD1/EIF3B/RPL31/RPS12/RPL26L1/FMR1/RPL11/DRG2/RPL9/HNRNPU/YTHDF2/EIF3E/RPL26/RPS24\\\\\n\tGO:0030968 & GO:0030968 & endoplasmic reticulum unfolded protein response           &  79 & 0.6281911 & 2.712672 & 1e-10 & 3.758125e-08 & 3.382895e-08 & 5683 & tags=72\\%, list=26\\%, signal=54\\% & AGR2/CTH/ERN1/BHLHA15/ATF3/DNAJB9/FGF21/DDIT3/DNAJC10/CREB3L1/HERPUD1/FICD/SERP1/STC2/SELENOS/ATF4/EDEM3/EDEM2/CREB3/ERO1A/PPP1R15B/ASB11/EDEM1/ERLEC1/EIF2AK3/TMED2/RACK1/ATF6/HSPA5/TBL2/EIF2S1/MBTPS2/DDRGK1/TMEM33/NFE2L2/NCK1/VCP/AMFR/DERL1/WFS1/PTPN1/BBC3/CREBRF/STUB1/VAPB/HERPUD2/QRICH1/NCK2/RHBDD2/YOD1/DERL2/EIF2AK2/RNF7/COPS5/MBTPS1/OS9/XBP1                                                                                                                                                                                                                                                                                                                                                             \\\\\n\tGO:0035967 & GO:0035967 & cellular response to topologically incorrect protein      & 107 & 0.5857710 & 2.661120 & 1e-10 & 3.758125e-08 & 3.382895e-08 & 5683 & tags=67\\%, list=26\\%, signal=50\\% & UMOD/AGR2/CTH/ERN1/BHLHA15/ATF3/DNAJB9/FGF21/DDIT3/DNAJC10/CREB3L1/HERPUD1/FICD/SERP1/STC2/SELENOS/ATF4/EDEM3/EDEM2/CREB3/ERO1A/PPP1R15B/ASB11/RHBDD1/EDEM1/HSPD1/ERLEC1/EIF2AK3/TMED2/RACK1/ATF6/HSPA5/TBL2/SDF2L1/DAXX/EIF2S1/MBTPS2/DDRGK1/TMEM33/BAG3/RNF126/NFE2L2/AKIRIN2/NCK1/VCP/AMFR/DERL1/UFD1/HSF1/CUL3/WFS1/UBR4/PTPN1/TMBIM6/BBC3/CREBRF/STUB1/VAPB/HERPUD2/DNAJB12/QRICH1/NCK2/RHBDD2/YOD1/DERL2/EIF2AK2/RNF7/COPS5/MBTPS1/OS9/UBE2W/XBP1                                                                                                                                                                                                                                                                  \\\\\n\tGO:0034620 & GO:0034620 & cellular response to unfolded protein                     &  92 & 0.5965843 & 2.616829 & 1e-10 & 3.758125e-08 & 3.382895e-08 & 5122 & tags=64\\%, list=23\\%, signal=49\\% & UMOD/AGR2/CTH/ERN1/BHLHA15/ATF3/DNAJB9/FGF21/DDIT3/DNAJC10/CREB3L1/HERPUD1/FICD/SERP1/STC2/SELENOS/ATF4/EDEM3/EDEM2/CREB3/ERO1A/PPP1R15B/ASB11/RHBDD1/EDEM1/HSPD1/ERLEC1/EIF2AK3/TMED2/RACK1/ATF6/HSPA5/TBL2/DAXX/EIF2S1/MBTPS2/DDRGK1/TMEM33/BAG3/NFE2L2/NCK1/VCP/AMFR/DERL1/HSF1/WFS1/PTPN1/TMBIM6/BBC3/CREBRF/STUB1/VAPB/HERPUD2/QRICH1/NCK2/RHBDD2/YOD1/DERL2/EIF2AK2                                                                                                                                                                                                                                                                                                                                                \\\\\n\tGO:0006986 & GO:0006986 & response to unfolded protein                              & 132 & 0.5621208 & 2.595289 & 1e-10 & 3.758125e-08 & 3.382895e-08 & 5122 & tags=60\\%, list=23\\%, signal=46\\% & UMOD/AGR2/CHAC1/CTH/ERN1/BHLHA15/ATF3/DNAJB9/FGF21/DDIT3/DNAJC10/CREB3L1/HERPUD1/FICD/SERP1/STC2/SELENOS/ATF4/EDEM3/EDEM2/HSPA2/DNAJC3/CREB3L4/TRAM1/HSPA6/CREB3/MANF/ERO1A/PPP1R15B/ASB11/RHBDD1/EDEM1/CREB3L2/HSPD1/DNAJB2/ERP44/ERLEC1/EIF2AK3/TMED2/RACK1/ATF6/HSPA5/TBL2/DAXX/EIF2S1/MBTPS2/DDRGK1/TMEM33/BAG3/HSPH1/NFE2L2/HSPE1/NCK1/VCP/AMFR/HSPA8/DERL1/DNAJA1/HSF1/HSP90AA1/WFS1/UBXN4/PTPN1/TMBIM6/BBC3/CREBRF/STUB1/VAPB/HSP90AB1/HERPUD2/MFN2/DNAJC4/KBTBD6/QRICH1/NCK2/RHBDD2/YOD1/DERL2/EIF2AK2                                                                                                                                                                                                           \\\\\n\tGO:0006888 & GO:0006888 & endoplasmic reticulum to Golgi vesicle-mediated transport & 127 & 0.5660377 & 2.585651 & 1e-10 & 3.758125e-08 & 3.382895e-08 & 4452 & tags=59\\%, list=20\\%, signal=47\\% & SEC24D/SEC16B/COPG1/BCAP29/ARF4/ARCN1/CTAGE1/ANK1/MIA2/SEC23B/COPE/BET1/YKT6/YIF1A/HYOU1/RAB1A/SCAP/SURF4/CTAGE6/COPB1/TRAPPC3/USO1/TMED9/CREB3L2/TMED10/LRRK2/PREB/TMED3/ERGIC2/YIPF5/SEC24B/TMED2/COPA/SEC31A/COPB2/SEC22B/SEC24A/SEC24C/STX5/P4HB/SEC13/TMED5/SEC16A/SAR1B/LMAN1/LMAN2/TRAPPC4/TMED1/GOLT1B/TMED7/SEC22C/INSIG1/CTAGE8/TBC1D20/TFG/RAB1B/VAPA/COG3/WHAMM/TRAPPC5/ERGIC3/ERGIC1/GOLGA2/TRAPPC6A/VCP/STX18/GBF1/NRBP1/BCAP31/CUL3/PEF1/PPP6C/YIF1B/TRAPPC2B/VAPB                                                                                                                                                                                                                                        \\\\\n\\end{tabular}\n",
            "text/plain": [
              "           ID         Description                                              \n",
              "GO:0002181 GO:0002181 cytoplasmic translation                                  \n",
              "GO:0030968 GO:0030968 endoplasmic reticulum unfolded protein response          \n",
              "GO:0035967 GO:0035967 cellular response to topologically incorrect protein     \n",
              "GO:0034620 GO:0034620 cellular response to unfolded protein                    \n",
              "GO:0006986 GO:0006986 response to unfolded protein                             \n",
              "GO:0006888 GO:0006888 endoplasmic reticulum to Golgi vesicle-mediated transport\n",
              "           setSize enrichmentScore NES      pvalue p.adjust     qvalue      \n",
              "GO:0002181 159     0.6012163       2.827878 1e-10  3.758125e-08 3.382895e-08\n",
              "GO:0030968  79     0.6281911       2.712672 1e-10  3.758125e-08 3.382895e-08\n",
              "GO:0035967 107     0.5857710       2.661120 1e-10  3.758125e-08 3.382895e-08\n",
              "GO:0034620  92     0.5965843       2.616829 1e-10  3.758125e-08 3.382895e-08\n",
              "GO:0006986 132     0.5621208       2.595289 1e-10  3.758125e-08 3.382895e-08\n",
              "GO:0006888 127     0.5660377       2.585651 1e-10  3.758125e-08 3.382895e-08\n",
              "           rank leading_edge                  \n",
              "GO:0002181 5988 tags=73%, list=27%, signal=53%\n",
              "GO:0030968 5683 tags=72%, list=26%, signal=54%\n",
              "GO:0035967 5683 tags=67%, list=26%, signal=50%\n",
              "GO:0034620 5122 tags=64%, list=23%, signal=49%\n",
              "GO:0006986 5122 tags=60%, list=23%, signal=46%\n",
              "GO:0006888 4452 tags=59%, list=20%, signal=47%\n",
              "           core_enrichment                                                                                                                                                                                                                                                                                                                                                                                                                                                                                                                                                                                                                                                                                                          \n",
              "GO:0002181 PKP1/RBM24/CPEB3/SARS1/EIF3I/MTOR/EIF2S2/AARS1/RPS10/RPS18/RPL18/RPS5/RPL18A/RPL38/YBX3/RPS8/EIF3J/RPL8/RPS16/RPL7A/RPS11/RPL10/RACK1/FAU/RPL36/RPLP0/RPL13/RPS3/RPS15/RPL19/RPL3/RPS19/RPL12/IMPACT/RPS2/ETF1/PABPC1/EIF3G/RPS6/RPL13A/RPLP2/EIF3L/RPL14/RPS28/EIF3M/EIF3H/RPL15/RPS29/RPL4/RPL35A/RPS4X/RPS14/EIF2S3/EIF2B2/RPL29/EIF3F/RPL27/RPL32/RPLP1/RPL37A/YBX1/RPSA/EIF2B4/CSDE1/RPS13/CNBP/FTSJ1/RPL35/RPL28/RPL5/RPL27A/EIF3D/RPL24/NCK1/DRG1/EIF3K/RPL10A/RPS20/UBA52/RPS7/GTPBP1/RPS23/RPS21/EIF2B1/EIF4G1/PAIP1/ALKBH3/RPL22L1/RPS25/RPL6/RPS3A/ZC3H15/EIF2D/RPL23A/NMNAT2/EIF3A/RPL34/DENR/RPL30/SH3BGRL/RPS15A/RPL37/RWDD1/EIF3B/RPL31/RPS12/RPL26L1/FMR1/RPL11/DRG2/RPL9/HNRNPU/YTHDF2/EIF3E/RPL26/RPS24\n",
              "GO:0030968 AGR2/CTH/ERN1/BHLHA15/ATF3/DNAJB9/FGF21/DDIT3/DNAJC10/CREB3L1/HERPUD1/FICD/SERP1/STC2/SELENOS/ATF4/EDEM3/EDEM2/CREB3/ERO1A/PPP1R15B/ASB11/EDEM1/ERLEC1/EIF2AK3/TMED2/RACK1/ATF6/HSPA5/TBL2/EIF2S1/MBTPS2/DDRGK1/TMEM33/NFE2L2/NCK1/VCP/AMFR/DERL1/WFS1/PTPN1/BBC3/CREBRF/STUB1/VAPB/HERPUD2/QRICH1/NCK2/RHBDD2/YOD1/DERL2/EIF2AK2/RNF7/COPS5/MBTPS1/OS9/XBP1                                                                                                                                                                                                                                                                                                                                                             \n",
              "GO:0035967 UMOD/AGR2/CTH/ERN1/BHLHA15/ATF3/DNAJB9/FGF21/DDIT3/DNAJC10/CREB3L1/HERPUD1/FICD/SERP1/STC2/SELENOS/ATF4/EDEM3/EDEM2/CREB3/ERO1A/PPP1R15B/ASB11/RHBDD1/EDEM1/HSPD1/ERLEC1/EIF2AK3/TMED2/RACK1/ATF6/HSPA5/TBL2/SDF2L1/DAXX/EIF2S1/MBTPS2/DDRGK1/TMEM33/BAG3/RNF126/NFE2L2/AKIRIN2/NCK1/VCP/AMFR/DERL1/UFD1/HSF1/CUL3/WFS1/UBR4/PTPN1/TMBIM6/BBC3/CREBRF/STUB1/VAPB/HERPUD2/DNAJB12/QRICH1/NCK2/RHBDD2/YOD1/DERL2/EIF2AK2/RNF7/COPS5/MBTPS1/OS9/UBE2W/XBP1                                                                                                                                                                                                                                                                  \n",
              "GO:0034620 UMOD/AGR2/CTH/ERN1/BHLHA15/ATF3/DNAJB9/FGF21/DDIT3/DNAJC10/CREB3L1/HERPUD1/FICD/SERP1/STC2/SELENOS/ATF4/EDEM3/EDEM2/CREB3/ERO1A/PPP1R15B/ASB11/RHBDD1/EDEM1/HSPD1/ERLEC1/EIF2AK3/TMED2/RACK1/ATF6/HSPA5/TBL2/DAXX/EIF2S1/MBTPS2/DDRGK1/TMEM33/BAG3/NFE2L2/NCK1/VCP/AMFR/DERL1/HSF1/WFS1/PTPN1/TMBIM6/BBC3/CREBRF/STUB1/VAPB/HERPUD2/QRICH1/NCK2/RHBDD2/YOD1/DERL2/EIF2AK2                                                                                                                                                                                                                                                                                                                                                \n",
              "GO:0006986 UMOD/AGR2/CHAC1/CTH/ERN1/BHLHA15/ATF3/DNAJB9/FGF21/DDIT3/DNAJC10/CREB3L1/HERPUD1/FICD/SERP1/STC2/SELENOS/ATF4/EDEM3/EDEM2/HSPA2/DNAJC3/CREB3L4/TRAM1/HSPA6/CREB3/MANF/ERO1A/PPP1R15B/ASB11/RHBDD1/EDEM1/CREB3L2/HSPD1/DNAJB2/ERP44/ERLEC1/EIF2AK3/TMED2/RACK1/ATF6/HSPA5/TBL2/DAXX/EIF2S1/MBTPS2/DDRGK1/TMEM33/BAG3/HSPH1/NFE2L2/HSPE1/NCK1/VCP/AMFR/HSPA8/DERL1/DNAJA1/HSF1/HSP90AA1/WFS1/UBXN4/PTPN1/TMBIM6/BBC3/CREBRF/STUB1/VAPB/HSP90AB1/HERPUD2/MFN2/DNAJC4/KBTBD6/QRICH1/NCK2/RHBDD2/YOD1/DERL2/EIF2AK2                                                                                                                                                                                                           \n",
              "GO:0006888 SEC24D/SEC16B/COPG1/BCAP29/ARF4/ARCN1/CTAGE1/ANK1/MIA2/SEC23B/COPE/BET1/YKT6/YIF1A/HYOU1/RAB1A/SCAP/SURF4/CTAGE6/COPB1/TRAPPC3/USO1/TMED9/CREB3L2/TMED10/LRRK2/PREB/TMED3/ERGIC2/YIPF5/SEC24B/TMED2/COPA/SEC31A/COPB2/SEC22B/SEC24A/SEC24C/STX5/P4HB/SEC13/TMED5/SEC16A/SAR1B/LMAN1/LMAN2/TRAPPC4/TMED1/GOLT1B/TMED7/SEC22C/INSIG1/CTAGE8/TBC1D20/TFG/RAB1B/VAPA/COG3/WHAMM/TRAPPC5/ERGIC3/ERGIC1/GOLGA2/TRAPPC6A/VCP/STX18/GBF1/NRBP1/BCAP31/CUL3/PEF1/PPP6C/YIF1B/TRAPPC2B/VAPB                                                                                                                                                                                                                                        "
            ]
          },
          "metadata": {}
        }
      ],
      "source": [
        "# View the results\n",
        "head(gsea_result)"
      ]
    },
    {
      "cell_type": "code",
      "execution_count": 11,
      "metadata": {
        "id": "JX6YBssvffn1",
        "colab": {
          "base_uri": "https://localhost:8080/"
        },
        "outputId": "450c3445-d794-40cd-cc8d-5c4fc7b3f8d1"
      },
      "outputs": [
        {
          "output_type": "stream",
          "name": "stderr",
          "text": [
            "Warning message in preparePathwaysAndStats(pathways, stats, minSize, maxSize, gseaParam, :\n",
            "“There are ties in the preranked stats (13.24% of the list).\n",
            "The order of those tied genes will be arbitrary, which may produce unexpected results.”\n"
          ]
        }
      ],
      "source": [
        "# Load MSigDB gene sets (e.g., Hallmark gene sets)\n",
        "msigdb_sets <- msigdbr(species = \"Homo sapiens\", category = \"H\")\n",
        "\n",
        "# Convert to a list of gene sets\n",
        "gene_sets <- split(msigdb_sets$gene_symbol, msigdb_sets$gs_name)\n",
        "\n",
        "# Run GSEA with fgsea\n",
        "fgsea_result <- fgsea(\n",
        "    pathways = gene_sets,\n",
        "    stats = ranked_list,\n",
        "    minSize = 10,\n",
        "    maxSize = 500,\n",
        "    eps = 0.0,\n",
        "    scoreType = \"std\"\n",
        ")"
      ]
    },
    {
      "cell_type": "code",
      "execution_count": 12,
      "metadata": {
        "id": "lG0TmqfRflJc",
        "colab": {
          "base_uri": "https://localhost:8080/",
          "height": 286
        },
        "outputId": "577b2192-523a-453e-e24c-54b18666018c"
      },
      "outputs": [
        {
          "output_type": "display_data",
          "data": {
            "text/html": [
              "<table class=\"dataframe\">\n",
              "<caption>A data.table: 6 × 8</caption>\n",
              "<thead>\n",
              "\t<tr><th scope=col>pathway</th><th scope=col>pval</th><th scope=col>padj</th><th scope=col>log2err</th><th scope=col>ES</th><th scope=col>NES</th><th scope=col>size</th><th scope=col>leadingEdge</th></tr>\n",
              "\t<tr><th scope=col>&lt;chr&gt;</th><th scope=col>&lt;dbl&gt;</th><th scope=col>&lt;dbl&gt;</th><th scope=col>&lt;dbl&gt;</th><th scope=col>&lt;dbl&gt;</th><th scope=col>&lt;dbl&gt;</th><th scope=col>&lt;int&gt;</th><th scope=col>&lt;list&gt;</th></tr>\n",
              "</thead>\n",
              "<tbody>\n",
              "\t<tr><td>HALLMARK_ANDROGEN_RESPONSE        </td><td>1.414943e-37</td><td>7.074713e-36</td><td>1.5959567</td><td> 0.8167013</td><td> 3.651628</td><td>100</td><td>STEAP4, ....</td></tr>\n",
              "\t<tr><td>HALLMARK_OXIDATIVE_PHOSPHORYLATION</td><td>2.178857e-17</td><td>5.447142e-16</td><td>1.0768682</td><td> 0.5116186</td><td> 2.626945</td><td>197</td><td>GLUD1, I....</td></tr>\n",
              "\t<tr><td>HALLMARK_UNFOLDED_PROTEIN_RESPONSE</td><td>1.552008e-16</td><td>2.586680e-15</td><td>1.0476265</td><td> 0.6150965</td><td> 2.851773</td><td>111</td><td>CHAC1, E....</td></tr>\n",
              "\t<tr><td>HALLMARK_MTORC1_SIGNALING         </td><td>5.198084e-14</td><td>6.497604e-13</td><td>0.9653278</td><td> 0.4787540</td><td> 2.451360</td><td>199</td><td>SLC2A3, ....</td></tr>\n",
              "\t<tr><td>HALLMARK_MYC_TARGETS_V1           </td><td>4.789776e-10</td><td>4.789776e-09</td><td>0.8012156</td><td> 0.4259975</td><td> 2.132519</td><td>195</td><td>ODC1, PS....</td></tr>\n",
              "\t<tr><td>HALLMARK_E2F_TARGETS              </td><td>4.012205e-09</td><td>3.343504e-08</td><td>0.7614608</td><td>-0.5132772</td><td>-1.864841</td><td>197</td><td>RRM2, ES....</td></tr>\n",
              "</tbody>\n",
              "</table>\n"
            ],
            "text/markdown": "\nA data.table: 6 × 8\n\n| pathway &lt;chr&gt; | pval &lt;dbl&gt; | padj &lt;dbl&gt; | log2err &lt;dbl&gt; | ES &lt;dbl&gt; | NES &lt;dbl&gt; | size &lt;int&gt; | leadingEdge &lt;list&gt; |\n|---|---|---|---|---|---|---|---|\n| HALLMARK_ANDROGEN_RESPONSE         | 1.414943e-37 | 7.074713e-36 | 1.5959567 |  0.8167013 |  3.651628 | 100 | STEAP4, .... |\n| HALLMARK_OXIDATIVE_PHOSPHORYLATION | 2.178857e-17 | 5.447142e-16 | 1.0768682 |  0.5116186 |  2.626945 | 197 | GLUD1, I.... |\n| HALLMARK_UNFOLDED_PROTEIN_RESPONSE | 1.552008e-16 | 2.586680e-15 | 1.0476265 |  0.6150965 |  2.851773 | 111 | CHAC1, E.... |\n| HALLMARK_MTORC1_SIGNALING          | 5.198084e-14 | 6.497604e-13 | 0.9653278 |  0.4787540 |  2.451360 | 199 | SLC2A3, .... |\n| HALLMARK_MYC_TARGETS_V1            | 4.789776e-10 | 4.789776e-09 | 0.8012156 |  0.4259975 |  2.132519 | 195 | ODC1, PS.... |\n| HALLMARK_E2F_TARGETS               | 4.012205e-09 | 3.343504e-08 | 0.7614608 | -0.5132772 | -1.864841 | 197 | RRM2, ES.... |\n\n",
            "text/latex": "A data.table: 6 × 8\n\\begin{tabular}{llllllll}\n pathway & pval & padj & log2err & ES & NES & size & leadingEdge\\\\\n <chr> & <dbl> & <dbl> & <dbl> & <dbl> & <dbl> & <int> & <list>\\\\\n\\hline\n\t HALLMARK\\_ANDROGEN\\_RESPONSE         & 1.414943e-37 & 7.074713e-36 & 1.5959567 &  0.8167013 &  3.651628 & 100 & STEAP4, ....\\\\\n\t HALLMARK\\_OXIDATIVE\\_PHOSPHORYLATION & 2.178857e-17 & 5.447142e-16 & 1.0768682 &  0.5116186 &  2.626945 & 197 & GLUD1, I....\\\\\n\t HALLMARK\\_UNFOLDED\\_PROTEIN\\_RESPONSE & 1.552008e-16 & 2.586680e-15 & 1.0476265 &  0.6150965 &  2.851773 & 111 & CHAC1, E....\\\\\n\t HALLMARK\\_MTORC1\\_SIGNALING          & 5.198084e-14 & 6.497604e-13 & 0.9653278 &  0.4787540 &  2.451360 & 199 & SLC2A3, ....\\\\\n\t HALLMARK\\_MYC\\_TARGETS\\_V1            & 4.789776e-10 & 4.789776e-09 & 0.8012156 &  0.4259975 &  2.132519 & 195 & ODC1, PS....\\\\\n\t HALLMARK\\_E2F\\_TARGETS               & 4.012205e-09 & 3.343504e-08 & 0.7614608 & -0.5132772 & -1.864841 & 197 & RRM2, ES....\\\\\n\\end{tabular}\n",
            "text/plain": [
              "  pathway                            pval         padj         log2err  \n",
              "1 HALLMARK_ANDROGEN_RESPONSE         1.414943e-37 7.074713e-36 1.5959567\n",
              "2 HALLMARK_OXIDATIVE_PHOSPHORYLATION 2.178857e-17 5.447142e-16 1.0768682\n",
              "3 HALLMARK_UNFOLDED_PROTEIN_RESPONSE 1.552008e-16 2.586680e-15 1.0476265\n",
              "4 HALLMARK_MTORC1_SIGNALING          5.198084e-14 6.497604e-13 0.9653278\n",
              "5 HALLMARK_MYC_TARGETS_V1            4.789776e-10 4.789776e-09 0.8012156\n",
              "6 HALLMARK_E2F_TARGETS               4.012205e-09 3.343504e-08 0.7614608\n",
              "  ES         NES       size leadingEdge \n",
              "1  0.8167013  3.651628 100  STEAP4, ....\n",
              "2  0.5116186  2.626945 197  GLUD1, I....\n",
              "3  0.6150965  2.851773 111  CHAC1, E....\n",
              "4  0.4787540  2.451360 199  SLC2A3, ....\n",
              "5  0.4259975  2.132519 195  ODC1, PS....\n",
              "6 -0.5132772 -1.864841 197  RRM2, ES...."
            ]
          },
          "metadata": {}
        }
      ],
      "source": [
        "# View the results\n",
        "head(fgsea_result[order(pval), ])"
      ]
    },
    {
      "cell_type": "code",
      "execution_count": 13,
      "metadata": {
        "id": "O4sDVg14fq_h",
        "colab": {
          "base_uri": "https://localhost:8080/",
          "height": 437
        },
        "outputId": "47d4da80-9dce-4f8c-aabe-b629a0a63276"
      },
      "outputs": [
        {
          "output_type": "display_data",
          "data": {
            "text/plain": [
              "plot without title"
            ],
            "image/png": "[encoded data removed]"
          },
          "metadata": {
            "image/png": {
              "width": 420,
              "height": 420
            }
          }
        }
      ],
      "source": [
        "# Plot the enrichment plot for a specific gene set\n",
        "plotEnrichment(gene_sets[[\"HALLMARK_ANDROGEN_RESPONSE\"]], ranked_list)  # Replace with your gene set of interest"
      ]
    }
  ],
  "metadata": {
    "colab": {
      "provenance": [],
      "authorship_tag": "ABX9TyNcO5kkanE0S9nixPURCPD8",
      "include_colab_link": true
    },
    "kernelspec": {
      "display_name": "R",
      "name": "ir"
    },
    "language_info": {
      "name": "R"
    }
  },
  "nbformat": 4,
  "nbformat_minor": 0
}