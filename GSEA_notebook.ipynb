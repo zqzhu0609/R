{
  "cells": [
    {
      "cell_type": "markdown",
      "metadata": {
        "id": "view-in-github",
        "colab_type": "text"
      },
      "source": [
        "<a href=\"https://colab.research.google.com/github/zqzhu0609/R/blob/main/GSEA_notebook.ipynb\" target=\"_parent\"><img src=\"https://colab.research.google.com/assets/colab-badge.svg\" alt=\"Open In Colab\"/></a>"
      ]
    },
    {
      "cell_type": "code",
      "execution_count": null,
      "metadata": {
        "id": "UDSbvdLPc7vS"
      },
      "outputs": [],
      "source": []
    },
    {
      "cell_type": "code",
      "source": [
        "if (!requireNamespace(\"BiocManager\", quietly = TRUE))\n",
        "  install.packages(\"BiocManager\")\n",
        "\n",
        "BiocManager::install(\"clusterProfiler\")\n",
        "BiocManager::install(\"org.Hs.eg.db\")\n",
        "BiocManager::install(\"msigdbr\")\n",
        "BiocManager::install(\"enrichplot\")\n",
        "BiocManager::install(\"fgsea\")"
      ],
      "metadata": {
        "colab": {
          "base_uri": "https://localhost:8080/"
        },
        "id": "GcdByLAqSFX7",
        "outputId": "23af9075-e739-4238-d65b-b582188454bf"
      },
      "execution_count": null,
      "outputs": [
        {
          "output_type": "stream",
          "name": "stderr",
          "text": [
            "Installing package into ‘/usr/local/lib/R/site-library’\n",
            "(as ‘lib’ is unspecified)\n",
            "\n",
            "'getOption(\"repos\")' replaces Bioconductor standard repositories, see\n",
            "'help(\"repositories\", package = \"BiocManager\")' for details.\n",
            "Replacement repositories:\n",
            "    CRAN: https://cran.rstudio.com\n",
            "\n",
            "Bioconductor version 3.20 (BiocManager 1.30.25), R 4.4.3 (2025-02-28)\n",
            "\n",
            "Installing package(s) 'BiocVersion', 'clusterProfiler'\n",
            "\n",
            "also installing the dependencies ‘zlibbioc’, ‘UCSC.utils’, ‘GenomeInfoDbData’, ‘formatR’, ‘XVector’, ‘GenomeInfoDb’, ‘lambda.r’, ‘futile.options’, ‘gridGraphics’, ‘tweenr’, ‘polyclip’, ‘RcppEigen’, ‘lazyeval’, ‘plogr’, ‘png’, ‘Biostrings’, ‘futile.logger’, ‘snow’, ‘BH’, ‘cowplot’, ‘fastmatch’, ‘ggplotify’, ‘patchwork’, ‘ggforce’, ‘ape’, ‘tidytree’, ‘treeio’, ‘R.oo’, ‘R.methodsS3’, ‘BiocGenerics’, ‘Biobase’, ‘IRanges’, ‘RSQLite’, ‘S4Vectors’, ‘KEGGREST’, ‘BiocParallel’, ‘fgsea’, ‘reshape2’, ‘aplot’, ‘ggfun’, ‘ggnewscale’, ‘ggrepel’, ‘ggtangle’, ‘scatterpie’, ‘ggtree’, ‘R.utils’, ‘AnnotationDbi’, ‘DOSE’, ‘enrichplot’, ‘GO.db’, ‘GOSemSim’, ‘gson’, ‘igraph’, ‘plyr’, ‘qvalue’, ‘yulab.utils’\n",
            "\n",
            "\n"
          ]
        }
      ]
    },
    {
      "cell_type": "code",
      "execution_count": null,
      "metadata": {
        "id": "XrQU0-kbdRXY"
      },
      "outputs": [],
      "source": [
        "\n",
        "# Load the libraries\n",
        "library(clusterProfiler)\n",
        "library(org.Hs.eg.db)\n",
        "library(msigdbr)\n",
        "library(enrichplot)\n",
        "library(fgsea)"
      ]
    },
    {
      "cell_type": "code",
      "execution_count": null,
      "metadata": {
        "id": "sTQETa8Neubb"
      },
      "outputs": [],
      "source": [
        "# Load the CSV file\n",
        "dir(\"/content/\")\n",
        "data <- read.csv('/content/WT2.csv')\n",
        "# Check the first few rows of the data\n",
        "head(data)"
      ]
    },
    {
      "cell_type": "code",
      "execution_count": null,
      "metadata": {
        "id": "_BrIq_TkfSpV"
      },
      "outputs": [],
      "source": [
        "# Example: If the CSV file has columns \"Gene\" and \"Rank\"\n",
        "ranked_list <- data$Score\n",
        "names(ranked_list) <- data$Gene\n",
        "\n",
        "# Sort the ranked list in decreasing order\n",
        "ranked_list <- sort(ranked_list, decreasing = TRUE)"
      ]
    },
    {
      "cell_type": "code",
      "execution_count": null,
      "metadata": {
        "id": "AyrZkGSGfblm"
      },
      "outputs": [],
      "source": [
        "# Run GSEA with GO terms\n",
        "gsea_result <- gseGO(\n",
        "    geneList = ranked_list,\n",
        "    ont = \"BP\",                    # Biological Process\n",
        "    OrgDb = org.Hs.eg.db,          # Organism database\n",
        "    keyType = \"SYMBOL\",            # Gene identifier type\n",
        "    exponent = 1,\n",
        "    minGSSize = 10,\n",
        "    maxGSSize = 500,\n",
        "    pvalueCutoff = 0.05,\n",
        "    verbose = TRUE\n",
        ")"
      ]
    },
    {
      "cell_type": "code",
      "execution_count": null,
      "metadata": {
        "id": "1Pk2A0vEfcRd"
      },
      "outputs": [],
      "source": [
        "# View the results\n",
        "head(gsea_result)"
      ]
    },
    {
      "cell_type": "code",
      "execution_count": null,
      "metadata": {
        "id": "JX6YBssvffn1"
      },
      "outputs": [],
      "source": [
        "# Load MSigDB gene sets (e.g., Hallmark gene sets)\n",
        "msigdb_sets <- msigdbr(species = \"Homo sapiens\", category = \"H\")\n",
        "\n",
        "# Convert to a list of gene sets\n",
        "gene_sets <- split(msigdb_sets$gene_symbol, msigdb_sets$gs_name)\n",
        "\n",
        "# Run GSEA with fgsea\n",
        "fgsea_result <- fgsea(\n",
        "    pathways = gene_sets,\n",
        "    stats = ranked_list,\n",
        "    minSize = 10,\n",
        "    maxSize = 500,\n",
        "    eps = 0.0,\n",
        "    scoreType = \"std\"\n",
        ")"
      ]
    },
    {
      "cell_type": "code",
      "execution_count": null,
      "metadata": {
        "id": "lG0TmqfRflJc"
      },
      "outputs": [],
      "source": [
        "# View the results\n",
        "head(fgsea_result[order(pval), ])"
      ]
    },
    {
      "cell_type": "code",
      "execution_count": null,
      "metadata": {
        "id": "O4sDVg14fq_h"
      },
      "outputs": [],
      "source": [
        "\n",
        "# Define your gene set and ranked list (replace with your actual data)\n",
        "gene_set <- gene_sets[[\"HALLMARK_ANDROGEN_RESPONSE\"]]\n",
        "ranked_list <- ranked_list  # Your ranked gene list\n",
        "\n",
        "# Calculate the enrichment score manually\n",
        "es <- calcGseaStat(ranked_list, selectedStats = gene_set)\n",
        "\n",
        "# Create a custom plot with 2pt line width\n",
        "plot(1:length(es), es, type = \"l\", lwd = 2,\n",
        "     xlab = \"Position in Ranked List\", ylab = \"Enrichment Score\",\n",
        "     main = \"HALLMARK_ANDROGEN_RESPONSE Enrichment Plot\")"
      ]
    }
  ],
  "metadata": {
    "colab": {
      "provenance": [],
      "authorship_tag": "ABX9TyMnetPhTMekXqaps4JjtN+T",
      "include_colab_link": true
    },
    "kernelspec": {
      "display_name": "R",
      "name": "ir"
    },
    "language_info": {
      "name": "R"
    }
  },
  "nbformat": 4,
  "nbformat_minor": 0
}