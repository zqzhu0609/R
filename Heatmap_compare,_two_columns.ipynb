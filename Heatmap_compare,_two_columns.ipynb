{
  "nbformat": 4,
  "nbformat_minor": 0,
  "metadata": {
    "colab": {
      "provenance": [],
      "toc_visible": true,
      "authorship_tag": "ABX9TyMIvyLFbxy7+4k/DnAcxFh5",
      "include_colab_link": true
    },
    "kernelspec": {
      "name": "python3",
      "display_name": "Python 3"
    },
    "language_info": {
      "name": "python"
    }
  },
  "cells": [
    {
      "cell_type": "markdown",
      "metadata": {
        "id": "view-in-github",
        "colab_type": "text"
      },
      "source": [
        "<a href=\"https://colab.research.google.com/github/zqzhu0609/R/blob/main/Heatmap_compare%2C_two_columns.ipynb\" target=\"_parent\"><img src=\"https://colab.research.google.com/assets/colab-badge.svg\" alt=\"Open In Colab\"/></a>"
      ]
    },
    {
      "cell_type": "code",
      "execution_count": null,
      "metadata": {
        "id": "tj0JennYYd-F"
      },
      "outputs": [],
      "source": [
        "import pandas as pd\n",
        "import seaborn as sns\n",
        "import matplotlib.pyplot as plt\n",
        "from matplotlib.colors import LinearSegmentedColormap\n",
        "# Load and prepare data\n"
      ]
    },
    {
      "cell_type": "code",
      "source": [
        "file_path = 'CYP51KO.xlsx'  # Replace with your actual file path\n",
        "\n"
      ],
      "metadata": {
        "id": "ylx-axghYjkV"
      },
      "execution_count": null,
      "outputs": []
    },
    {
      "cell_type": "code",
      "source": [
        "data = pd.read_excel(file_path, engine='openpyxl')\n",
        "\n",
        "data.set_index('Gene Symbol', inplace=True)\n",
        "\n",
        "\n",
        "# Transpose data (conditions become rows, genes become columns)\n",
        "data_for_heatmap = data.T\n",
        "\n",
        "\n",
        "\n",
        "\n"
      ],
      "metadata": {
        "id": "f3a6i3MlYm-i"
      },
      "execution_count": null,
      "outputs": []
    },
    {
      "cell_type": "code",
      "source": [
        "# Enable LaTeX rendering\n",
        "plt.rc('text', usetex=True)\n",
        "plt.rc('font', family='Helvetica')\n",
        "plt.rc('text.latex', preamble=r'\\usepackage{helvet}\\usepackage{mathastext}\\renewcommand{\\familydefault}{\\sfdefault}')"
      ],
      "metadata": {
        "id": "ZwLndnE9Yo1C"
      },
      "execution_count": null,
      "outputs": []
    },
    {
      "cell_type": "code",
      "source": [
        "\n",
        "'''\n",
        "\n",
        "# Define custom blue-black-yellow colormap\n",
        "colors = ['blue', 'black', 'yellow']  # Blue for negative, black for 0, yellow for positive\n",
        "n_bins = 256  # Number of color steps\n",
        "cmap_name = 'blue_black_yellow'\n",
        "custom_cmap = LinearSegmentedColormap.from_list(cmap_name, colors, N=n_bins)\n",
        "\n",
        "# Register the colormap (modern way)\n",
        "plt.colormaps.register(cmap=custom_cmap, name=cmap_name)\n",
        "\n",
        "'''\n"
      ],
      "metadata": {
        "id": "fkqPfUB3Yrux"
      },
      "execution_count": null,
      "outputs": []
    },
    {
      "cell_type": "code",
      "source": [
        "\n",
        "\n",
        "# Create heatmap\n",
        "plt.figure(figsize=(9, 6))\n",
        "ax = sns.heatmap(\n",
        "    data_for_heatmap,\n",
        "    cmap='blue_black_yellow',\n",
        "    vmin=-4,\n",
        "    vmax=4,\n",
        "    center=0,\n",
        "    annot=False,\n",
        "    cbar_kws={'label': 'Fold Change'}\n",
        ")\n",
        "\n",
        "colorbar = ax.collections[0].colorbar\n",
        "colorbar.ax.yaxis.set_tick_params(rotation=90)\n",
        "colorbar.ax.tick_params(labelsize=28)\n",
        "colorbar.ax.set_yticklabels([r'$\\mathsf{' + str(int(t)) + '}$' for t in colorbar.ax.get_yticks()], fontsize=28)\n",
        "colorbar.set_label(r'$\\mathsf{Log_{2}\\ Fold\\ Change}$', fontsize=28, labelpad=15)\n"
      ],
      "metadata": {
        "id": "AqB5Hj4nYt2o"
      },
      "execution_count": null,
      "outputs": []
    },
    {
      "cell_type": "code",
      "source": [
        "\n",
        "\n",
        "# Select specific genes (columns)\n",
        "selected_genes = ['FKBP5', 'KLK3', 'TMPRSS2']\n",
        "valid_genes = [g for g in selected_genes if g in data_for_heatmap.columns]\n"
      ],
      "metadata": {
        "id": "OZqEQthrYwef"
      },
      "execution_count": null,
      "outputs": []
    },
    {
      "cell_type": "code",
      "source": [
        "\n",
        "# Set x-axis ticks at cell centers\n",
        "tick_positions = [data_for_heatmap.columns.get_loc(g) + 0.5 for g in valid_genes]\n",
        "ax.set_xticks(tick_positions)\n",
        "ax.set_xticklabels(\n",
        "    valid_genes,\n",
        "    rotation=90,\n",
        "    ha='center',\n",
        "    va='top',\n",
        "    fontsize=28,\n",
        "    position=(0, 0.02)\n",
        ")"
      ],
      "metadata": {
        "id": "Yo-MLAYtYyxT"
      },
      "execution_count": null,
      "outputs": []
    },
    {
      "cell_type": "code",
      "source": [
        "\n",
        "\n",
        "# Set y-axis (ensure two rows)\n",
        "n_rows = data_for_heatmap.shape[0]  # Should be 2 for two conditions\n",
        "\n",
        "ytick_positions = [i + 0.5 for i in range(n_rows)]  # Should be [0.5, 1.5] for 2 rows\n",
        "\n",
        "\n",
        "\n",
        "# Customize y-axis labels with partial italics for \"CYP3A43 KO\"\n",
        "original_labels = data_for_heatmap.index\n",
        "formatted_labels = []\n",
        "for label in original_labels:\n",
        "    if 'CYP51A1 KO' in label:\n",
        "        #formatted_labels.append(r'$\\textit{CYP51A1}$ KO')\n",
        "        formatted_labels.append(r'$\\textit{CYP51A1}$ KO')# Italicize CYP3A43, keep KO normal\n",
        "    else:\n",
        "        formatted_labels.append(label)\n",
        "\n",
        "ax.set_yticks(ytick_positions)\n",
        "ax.set_yticklabels(\n",
        "    formatted_labels,\n",
        "    fontsize=28,\n",
        "    rotation=90  # Rotate y-axis labels to vertical (upward)\n",
        ")\n",
        "\n",
        "\n",
        "# Add title and labels\n",
        "plt.title('', fontsize=28, pad=20)\n",
        "plt.xlabel('', fontsize=28)\n"
      ],
      "metadata": {
        "id": "XjxZe8qcY0Ww"
      },
      "execution_count": null,
      "outputs": []
    },
    {
      "cell_type": "code",
      "source": [
        "\n",
        "#plt.ylabel('Conditions', fontsize=20)\n",
        "ax.tick_params(axis='x', length=10, width=2)  # Longer and thicker y-ticks\n",
        "ax.tick_params(labelsize = 28,axis='y', length=5, width=2)  # Longer and thicker y-ticks\n",
        "# Adjust layout\n",
        "plt.tight_layout()\n",
        "plt.subplots_adjust(bottom=0.2)\n",
        "\n",
        "# Save with high DPI\n",
        "plt.savefig('heatmap_high_dpi.png', dpi=1200, bbox_inches='tight')\n",
        "\n",
        "# Show plot\n",
        "plt.show()"
      ],
      "metadata": {
        "id": "qpw2UaWvY7eS"
      },
      "execution_count": null,
      "outputs": []
    }
  ]
}