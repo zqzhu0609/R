{
  "nbformat": 4,
  "nbformat_minor": 0,
  "metadata": {
    "colab": {
      "provenance": [],
      "authorship_tag": "ABX9TyNAiQhjYHOIF9mJg4NcHhFU",
      "include_colab_link": true
    },
    "kernelspec": {
      "name": "python3",
      "display_name": "Python 3"
    },
    "language_info": {
      "name": "python"
    }
  },
  "cells": [
    {
      "cell_type": "markdown",
      "metadata": {
        "id": "view-in-github",
        "colab_type": "text"
      },
      "source": [
        "<a href=\"https://colab.research.google.com/github/zqzhu0609/R/blob/main/Heatmap.ipynb\" target=\"_parent\"><img src=\"https://colab.research.google.com/assets/colab-badge.svg\" alt=\"Open In Colab\"/></a>"
      ]
    },
    {
      "cell_type": "code",
      "execution_count": null,
      "metadata": {
        "id": "P-ls2UGQZYFN"
      },
      "outputs": [],
      "source": [
        "# -*- coding: utf-8 -*-\n",
        "\"\"\"\n",
        "Spyder Editor\n",
        "\n",
        "This is a temporary script file.\n",
        "\"\"\"\n",
        "\n",
        "import pandas as pd\n",
        "import seaborn as sns\n",
        "\n",
        "import matplotlib.pyplot as plt\n",
        "from matplotlib.colors import LinearSegmentedColormap\n"
      ]
    },
    {
      "cell_type": "code",
      "source": [
        "\n",
        "# Load and prepare data\n",
        "file_path = 'CCF DHC vs EtOH.xlsx'  # Replace with your actual file path\n",
        "data = pd.read_excel(file_path, engine='openpyxl')\n",
        "data.set_index('Gene Symbol', inplace=True)\n",
        "\n",
        "\n",
        "# Transpose data (genes become columns, 'Fold Change' becomes the single row)\n",
        "data_for_heatmap = data.T\n",
        "\n",
        "\n",
        "\n",
        "\n"
      ],
      "metadata": {
        "id": "EXDFsolDZe0D"
      },
      "execution_count": null,
      "outputs": []
    },
    {
      "cell_type": "code",
      "source": [
        "\n",
        "\n",
        "# Enable LaTeX rendering\n",
        "plt.rc('text', usetex=True)\n",
        "plt.rc('font', family='Helvetica')\n",
        "plt.rc('text.latex', preamble=r'\\usepackage{helvet}\\usepackage{mathastext}\\renewcommand{\\familydefault}{\\sfdefault}')\n",
        "\n",
        "\n"
      ],
      "metadata": {
        "id": "oYIzGFDmZiWV"
      },
      "execution_count": null,
      "outputs": []
    },
    {
      "cell_type": "code",
      "source": [
        "\n",
        "\n",
        "\n",
        "# Define custom blue-black-yellow colormap\n",
        "colors = ['blue', 'black', 'yellow']  # Blue for negative, black for 0, yellow for positive\n",
        "n_bins = 256  # Number of color steps\n",
        "cmap_name = 'blue_black_yellow'\n",
        "custom_cmap = LinearSegmentedColormap.from_list(cmap_name, colors, N=n_bins)\n",
        "\n",
        "# Register the colormap (modern way)\n",
        "plt.colormaps.register(cmap=custom_cmap, name=cmap_name)\n",
        "\n"
      ],
      "metadata": {
        "id": "JLTuiglXZkuH"
      },
      "execution_count": null,
      "outputs": []
    },
    {
      "cell_type": "code",
      "source": [
        "\n",
        "\n",
        "# Create heatmap\n",
        "plt.figure(figsize=(9, 5))\n",
        "ax = sns.heatmap(\n",
        "    data_for_heatmap,\n",
        "    cmap='blue_black_yellow',\n",
        "    vmin=-4,\n",
        "    vmax=4,\n",
        "    center=0,\n",
        "    annot=False,\n",
        "    cbar_kws={'label': 'Fold Change'}\n",
        ")\n",
        "\n",
        "colorbar = ax.collections[0].colorbar\n",
        "colorbar.ax.yaxis.set_tick_params(rotation=90)\n",
        "colorbar.ax.tick_params(labelsize=28)\n",
        "colorbar.ax.set_yticklabels([r'$\\mathsf{' + str(int(t)) + '}$' for t in colorbar.ax.get_yticks()], fontsize=28)\n",
        "colorbar.set_label(r'$\\mathsf{Log_{2}\\ Fold\\ Change}$', fontsize=28, labelpad=15)\n",
        "\n",
        "\n",
        "\n",
        "\n"
      ],
      "metadata": {
        "id": "If5goASJZnbH"
      },
      "execution_count": null,
      "outputs": []
    },
    {
      "cell_type": "code",
      "source": [
        "\n",
        "\n",
        "# Select specific genes (columns)\n",
        "selected_genes = ['FKBP5', 'KLK3', 'TMPRSS2']\n",
        "valid_genes = [g for g in selected_genes if g in data_for_heatmap.columns]\n",
        "\n",
        "# Set x-axis ticks at cell centers\n",
        "tick_positions = [data_for_heatmap.columns.get_loc(g) + 0.5 for g in valid_genes]\n",
        "ax.set_xticks(tick_positions)\n",
        "ax.set_xticklabels(\n",
        "    valid_genes,\n",
        "    rotation=90,\n",
        "    ha='center',\n",
        "    va='top',\n",
        "    fontsize=28,\n",
        "    position=(0, 0.02)\n",
        ")\n",
        "\n",
        "# Set y-axis (ensure two rows)\n",
        "n_rows = data_for_heatmap.shape[0]  # Should be 2 for two conditions\n",
        "\n",
        "ytick_positions = [i + 0.5 for i in range(n_rows)]  # Should be [0.5, 1.5] for 2 rows\n",
        "\n",
        "\n",
        "\n",
        "\n"
      ],
      "metadata": {
        "id": "n1Y_XdGVZqU-"
      },
      "execution_count": null,
      "outputs": []
    },
    {
      "cell_type": "code",
      "source": [
        "\n",
        "# Select specific genes (now columns)\n",
        "selected_genes = ['FKBP5', 'KLK3', 'TMPRSS2']\n",
        "valid_genes = [g for g in selected_genes if g in data_for_heatmap.columns]\n",
        "\n",
        "# Set x-axis ticks at cell centers\n",
        "tick_positions = [data_for_heatmap.columns.get_loc(g) + 0.5 for g in valid_genes]\n",
        "ax.set_xticks(tick_positions)\n",
        "ax.set_xticklabels(\n",
        "    valid_genes,\n",
        "    rotation=90,\n",
        "    ha='center',    # Center horizontally on the tick\n",
        "    va='top',    # Center vertically on the tick\n",
        "    fontsize=28,\n",
        "    position=(-0.05, -0.03)  # Small downward nudge for better alignment\n",
        ")\n",
        "\n"
      ],
      "metadata": {
        "id": "fyz3FjBCZr0V"
      },
      "execution_count": null,
      "outputs": []
    },
    {
      "cell_type": "code",
      "source": [
        "\n",
        "# Set y-axis (single row)\n",
        "ax.set_yticks([0.5])  # Center the single row tick\n",
        "ax.set_yticklabels(['AR Target Genes'], fontsize=28)\n",
        "ax.tick_params(axis='x', length=10, width=2)  # Longer and thicker y-ticks\n",
        "ax.tick_params(axis='y', length=5, width=2)  # Longer and thicker y-ticks\n",
        "\n",
        "\n",
        "\n",
        "# Add title and labels\n",
        "plt.title('', fontsize=28, pad=20)\n",
        "plt.xlabel('', fontsize=28)\n",
        "\n",
        "#plt.ylabel('Conditions', fontsize=20)\n",
        "ax.tick_params(axis='x', length=10, width=2)  # Longer and thicker y-ticks\n",
        "ax.tick_params(labelsize = 28,axis='y', length=5, width=2)  # Longer and thicker y-ticks\n",
        "# Adjust layout\n",
        "plt.tight_layout()\n",
        "plt.subplots_adjust(bottom=0.2)\n",
        "\n",
        "# Save with high DPI\n",
        "plt.savefig('heatmap_high_dpi.png', dpi=1200, bbox_inches='tight')\n",
        "\n",
        "\n",
        "\n",
        "# Show plot\n",
        "plt.show()"
      ],
      "metadata": {
        "id": "eaq8-eMBZuaf"
      },
      "execution_count": null,
      "outputs": []
    }
  ]
}